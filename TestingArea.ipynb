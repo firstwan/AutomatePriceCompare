{
 "metadata": {
  "language_info": {
   "codemirror_mode": {
    "name": "ipython",
    "version": 3
   },
   "file_extension": ".py",
   "mimetype": "text/x-python",
   "name": "python",
   "nbconvert_exporter": "python",
   "pygments_lexer": "ipython3",
   "version": "3.8.5-final"
  },
  "orig_nbformat": 2,
  "kernelspec": {
   "name": "Python 3.8.5 32-bit",
   "display_name": "Python 3.8.5 32-bit",
   "metadata": {
    "interpreter": {
     "hash": "6d58817d7a36abfa3a827e4c983e24a2b2aeec7ad475bf8b9406aeab7b3302d2"
    }
   }
  }
 },
 "nbformat": 4,
 "nbformat_minor": 2,
 "cells": [
  {
   "cell_type": "code",
   "execution_count": 12,
   "metadata": {},
   "outputs": [
    {
     "output_type": "stream",
     "name": "stdout",
     "text": [
      "Number of item 40 in test\n",
      "next page\n",
      "Number of item 40 in test\n",
      "next page\n",
      "Number of item 40 in test\n",
      "next page\n",
      "Number of item 40 in test\n",
      "next page\n",
      "Number of item 40 in test\n",
      "next page\n",
      "Number of item 40 in test\n",
      "next page\n",
      "Number of item 40 in test\n",
      "next page\n",
      "Number of item 40 in test\n",
      "next page\n",
      "Number of item 40 in test\n",
      "next page\n",
      "Number of item 40 in test\n",
      "next page\n",
      "Number of item 40 in test\n",
      "next page\n",
      "Number of item 40 in test\n",
      "next page\n",
      "Number of item 40 in test\n",
      "next page\n",
      "Number of item 40 in test\n",
      "next page\n",
      "Number of item 40 in test\n",
      "next page\n",
      "Number of item 40 in test\n",
      "next page\n",
      "Number of item 40 in test\n",
      "next page\n",
      "Number of item 9 in test\n",
      "end page\n",
      "end\n"
     ]
    }
   ],
   "source": [
    "from datetime import date\n",
    "from selenium import webdriver\n",
    "from selenium.webdriver.common.keys import Keys\n",
    "from selenium.webdriver.support.ui import WebDriverWait\n",
    "from selenium.webdriver.support.expected_conditions import presence_of_all_elements_located, visibility_of\n",
    "from selenium.webdriver.common.by import By\n",
    "from selenium.common.exceptions import NoSuchElementException\n",
    "from selenium.webdriver.support.expected_conditions import presence_of_all_elements_located\n",
    "import time\n",
    "\n",
    "item1 = \"PH315-53-77CF\"\n",
    "item2 = \"predator helios 300\"\n",
    "\n",
    "ecommer_web = \"https://www.lazada.com.my/\"\n",
    "\n",
    "browser = webdriver.Chrome()\n",
    "browser.get(ecommer_web)\n",
    "\n",
    "wait = WebDriverWait(browser, 15)\n",
    "\n",
    "search_elem = browser.find_element_by_css_selector(\"#q\")\n",
    "search_elem.send_keys(item2)\n",
    "search_elem.submit()\n",
    "\n",
    "data_list = []\n",
    "\n",
    "while True:\n",
    "    time.sleep(1)\n",
    "    product_list = wait.until(presence_of_all_elements_located((By.CSS_SELECTOR, \"#root > div > div.ant-row.c10-Cg > div.ant-col-24 > div > div.ant-col-20.ant-col-push-4.c1z9Ut > div.c1_t2i > div.c2prKC\")))\n",
    "    print(\"Number of item {} in {}\".format(len(product_list), \"test\"))\n",
    "\n",
    "    if(len(product_list) > 0):\n",
    "        for product in product_list:    \n",
    "            product_title_content = product.text.split(\"\\n\")\n",
    "\n",
    "            product_name = product_title_content[0]\n",
    "            product_price = product_title_content[1]\n",
    "            product_url = product.find_element_by_tag_name(\"a\").get_attribute(\"href\")\n",
    "\n",
    "            data_list.append((product_name, product_price, product_url, \"lazada\"))\n",
    "\n",
    "    # Check have next page or not\n",
    "    try:\n",
    "        # Stop the search\n",
    "        browser.find_element_by_css_selector(\"#root > div > div.ant-row.c10-Cg > div.ant-col-24 > div > div.ant-col-20.ant-col-push-4.c1z9Ut > div.c3gNPq > div > ul > li.ant-pagination-disabled.ant-pagination-next > a\")\n",
    "        print(\"end page\")\n",
    "        break\n",
    "    except NoSuchElementException:\n",
    "        # Continue search\n",
    "        next_page_elem = browser.find_element_by_css_selector(\"#root > div > div.ant-row.c10-Cg > div.ant-col-24 > div > div.ant-col-20.ant-col-push-4.c1z9Ut > div.c3gNPq > div > ul > li.ant-pagination-next > a\")\n",
    "        print(\"next page\")\n",
    "        next_page_elem.click()\n",
    "\n",
    "print(\"end\")\n"
   ]
  },
  {
   "cell_type": "code",
   "execution_count": 11,
   "metadata": {},
   "outputs": [
    {
     "output_type": "stream",
     "name": "stdout",
     "text": [
      "Number of item 9 in test\n"
     ]
    }
   ],
   "source": [
    "test = wait.until(presence_of_all_elements_located((By.CSS_SELECTOR, \"#root > div > div.ant-row.c10-Cg > div.ant-col-24 > div > div.ant-col-20.ant-col-push-4.c1z9Ut > div.c1_t2i > div.c2prKC\")))\n",
    "print(\"Number of item {} in {}\".format(len(test), \"test\"))"
   ]
  },
  {
   "cell_type": "code",
   "execution_count": 82,
   "metadata": {},
   "outputs": [],
   "source": [
    "data_list = []\n",
    "if(len(product_list) > 0):\n",
    "    for product in product_list:    \n",
    "        product_title_content = product.text.split(\"\\n\")\n",
    "\n",
    "        product_name = product_title_content[0]\n",
    "        product_price = product_title_content[1]\n",
    "        product_url = product.find_element_by_tag_name(\"a\").get_attribute(\"href\")\n",
    "\n",
    "        data_list.append((product_name, product_price, product_url, \"lazada\"))"
   ]
  },
  {
   "cell_type": "code",
   "execution_count": 63,
   "metadata": {},
   "outputs": [],
   "source": [
    "browser.execute_script(\"window.scrollTo({}, {})\".format(location_dict[\"x\"], location_dict[\"y\"]))"
   ]
  },
  {
   "cell_type": "code",
   "execution_count": 85,
   "metadata": {},
   "outputs": [],
   "source": [
    "browser.quit()"
   ]
  },
  {
   "cell_type": "code",
   "execution_count": 52,
   "metadata": {},
   "outputs": [],
   "source": [
    "test = browser.find_element_by_css_selector(\"#modal > div.shopee-modal__container > div.shopee-modal__content > div > div.language-selection__list > div:nth-child(1) > button\")\n",
    "test.click()"
   ]
  },
  {
   "cell_type": "code",
   "execution_count": 49,
   "metadata": {},
   "outputs": [
    {
     "output_type": "stream",
     "name": "stdout",
     "text": [
      "Number of item 6 in shopee\n"
     ]
    }
   ],
   "source": [
    "product_list = browser.find_elements_by_css_selector(\"#main > div > div._1Bj1VS > div.container._2_Y1cV > div.jrLh5s > div > div.row.shopee-search-item-result__items > div\")\n",
    "print(\"Number of item {} in {}\".format(len(product_list), \"shopee\"))"
   ]
  },
  {
   "cell_type": "code",
   "execution_count": 37,
   "metadata": {},
   "outputs": [],
   "source": [
    "back_to_main = browser.find_element_by_css_selector(\"#main > div > div._1Bj1VS > div:nth-child(1) > div > div.container-wrapper.header-with-search-wrapper > div > a\")\n",
    "back_to_main.click()\n",
    "\n",
    "overlay_elem = browser.find_element_by_tag_name(\"body\")\n",
    "overlay_elem.send_keys(Keys.ESCAPE)\n",
    "search_elem = browser.find_element_by_css_selector(\"#main > div > div._1Bj1VS.qEcSbS > div:nth-child(1) > div > div.container-wrapper.header-with-search-wrapper > div > div.header-with-search__search-section > div.shopee-searchbar.shopee-searchbar > div > form > input\")\n",
    "search_elem.send_keys(item1)\n",
    "\n",
    "search_button = browser.find_element_by_css_selector(\"#main > div > div._1Bj1VS.qEcSbS > div:nth-child(1) > div > div.container-wrapper.header-with-search-wrapper > div > div.header-with-search__search-section > div.shopee-searchbar > button\")\n",
    "search_button.click()"
   ]
  },
  {
   "cell_type": "code",
   "execution_count": 84,
   "metadata": {},
   "outputs": [
    {
     "output_type": "stream",
     "name": "stdout",
     "text": [
      "next page\n"
     ]
    }
   ],
   "source": [
    "# Check have next page or not\n",
    "try:\n",
    "    # Stop the search\n",
    "    browser.find_element_by_css_selector(\"#root > div > div.ant-row.c10-Cg > div.ant-col-24 > div > div.ant-col-20.ant-col-push-4.c1z9Ut > div.c3gNPq > div > ul > li.ant-pagination-disabled.ant-pagination-next\")\n",
    "    print(\"end page\")    \n",
    "except NoSuchElementException:\n",
    "    # Continue search\n",
    "    next_page_elem = browser.find_element_by_css_selector(\"#root > div > div.ant-row.c10-Cg > div.ant-col-24 > div > div.ant-col-20.ant-col-push-4.c1z9Ut > div.c3gNPq > div > ul > li.ant-pagination-next > a\")\n",
    "    print(\"next page\")\n",
    "    next_page_elem.click()"
   ]
  },
  {
   "cell_type": "code",
   "execution_count": 39,
   "metadata": {},
   "outputs": [],
   "source": [
    "browser.quit()\n"
   ]
  },
  {
   "cell_type": "code",
   "execution_count": null,
   "metadata": {},
   "outputs": [],
   "source": []
  }
 ]
}
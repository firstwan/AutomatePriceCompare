{
 "metadata": {
  "language_info": {
   "codemirror_mode": {
    "name": "ipython",
    "version": 3
   },
   "file_extension": ".py",
   "mimetype": "text/x-python",
   "name": "python",
   "nbconvert_exporter": "python",
   "pygments_lexer": "ipython3",
   "version": "3.8.5-final"
  },
  "orig_nbformat": 2,
  "kernelspec": {
   "name": "Python 3.8.5 32-bit",
   "display_name": "Python 3.8.5 32-bit",
   "metadata": {
    "interpreter": {
     "hash": "6d58817d7a36abfa3a827e4c983e24a2b2aeec7ad475bf8b9406aeab7b3302d2"
    }
   }
  }
 },
 "nbformat": 4,
 "nbformat_minor": 2,
 "cells": [
  {
   "cell_type": "code",
   "execution_count": 35,
   "metadata": {},
   "outputs": [],
   "source": [
    "from datetime import date\n",
    "from selenium import webdriver\n",
    "\n",
    "item1 = \"PH315-53-77CF\"\n",
    "item2 = \"predator helios 300\"\n",
    "\n",
    "ecommer_web = \"https://www.lazada.com.my/\"\n",
    "\n",
    "browser = webdriver.Chrome()\n",
    "browser.get(ecommer_web)\n",
    "search_elem = browser.find_element_by_css_selector(\"#q\")\n",
    "search_elem.send_keys(item1)\n",
    "search_elem.submit()\n",
    "\n"
   ]
  },
  {
   "cell_type": "code",
   "execution_count": 61,
   "metadata": {},
   "outputs": [
    {
     "output_type": "stream",
     "name": "stdout",
     "text": [
      "<selenium.webdriver.remote.webelement.WebElement (session=\"d5681cc1c0560b2a39ae8e058d3d69c3\", element=\"c4532528-26b1-46c3-8d21-6e04a3551fc8\")>\n"
     ]
    }
   ],
   "source": [
    "next_page_elem = browser.find_element_by_css_selector(\"#root > div > div.ant-row.c10-Cg > div.ant-col-24 > div > div.ant-col-20.ant-col-push-4.c1z9Ut > div.c3gNPq > div > ul > li.ant-pagination-disabled.ant-pagination-next\")\n",
    "print(next_page_elem)"
   ]
  },
  {
   "cell_type": "code",
   "execution_count": 76,
   "metadata": {},
   "outputs": [],
   "source": [
    "back_to_main = browser.find_element_by_css_selector(\"#topActionHeader > div.lzd-header-content > div.lzd-logo-bar > div > div.lzd-logo-content > a > img\")\n",
    "back_to_main.click()\n",
    "test = browser.find_element_by_css_selector(\"#q\")\n",
    "test.send_keys(item1)\n",
    "test.submit()"
   ]
  },
  {
   "cell_type": "code",
   "execution_count": 77,
   "metadata": {},
   "outputs": [
    {
     "output_type": "stream",
     "name": "stdout",
     "text": [
      "end\n"
     ]
    }
   ],
   "source": [
    "from selenium.common.exceptions import NoSuchElementException\n",
    "\n",
    "i = 1\n",
    "while True:\n",
    "    try:\n",
    "        if i == 2:\n",
    "            break\n",
    "        # Stop the search\n",
    "        browser.find_element_by_css_selector(\"#root > div > div.ant-row.c10-Cg > div.ant-col-24 > div > div.ant-col-20.ant-col-push-4.c1z9Ut > div.c3gNPq > div > ul > li.ant-pagination-disabled.ant-pagination-next\")\n",
    "        break\n",
    "    except NoSuchElementException:\n",
    "        i += 1\n",
    "        # Continue search\n",
    "        next_page_elem = browser.find_element_by_css_selector(\"#root > div > div.ant-row.c10-Cg > div.ant-col-24 > div > div.ant-col-20.ant-col-push-4.c1z9Ut > div.c3gNPq > div > ul > li.ant-pagination-next > a\")\n",
    "        next_page_elem.click()\n",
    "\n",
    "print(\"end\")"
   ]
  },
  {
   "cell_type": "code",
   "execution_count": 78,
   "metadata": {},
   "outputs": [],
   "source": [
    "browser.quit()\n"
   ]
  },
  {
   "cell_type": "code",
   "execution_count": null,
   "metadata": {},
   "outputs": [],
   "source": []
  }
 ]
}